{
 "cells": [
  {
   "cell_type": "code",
   "execution_count": 361,
   "id": "4adef66c",
   "metadata": {},
   "outputs": [],
   "source": [
    "import numpy as np\n",
    "import pandas as pd\n",
    "import matplotlib.pyplot as plt\n",
    "    \n",
    "from konlpy.tag import Twitter\n",
    "from collections import Counter\n",
    "from wordcloud import WordCloud"
   ]
  },
  {
   "cell_type": "markdown",
   "id": "d7d50317",
   "metadata": {},
   "source": [
    "# 기사 크롤링"
   ]
  },
  {
   "cell_type": "code",
   "execution_count": 641,
   "id": "1396c775",
   "metadata": {},
   "outputs": [],
   "source": [
    "import os\n",
    "import pandas as pd\n",
    "from selenium import webdriver\n",
    "from selenium.webdriver.common.by import By\n",
    "from selenium.webdriver.common.keys import Keys\n",
    "import time\n",
    "import re\n",
    "from datetime import datetime\n",
    "from selenium.webdriver.support.ui import WebDriverWait\n",
    "from selenium.webdriver.support.select import Select"
   ]
  },
  {
   "cell_type": "code",
   "execution_count": 801,
   "id": "dd47191b",
   "metadata": {},
   "outputs": [],
   "source": [
    "options = webdriver.ChromeOptions()\n",
    "options.add_argument('headless')"
   ]
  },
  {
   "cell_type": "code",
   "execution_count": 862,
   "id": "fd1f8360",
   "metadata": {},
   "outputs": [
    {
     "name": "stderr",
     "output_type": "stream",
     "text": [
      "C:\\Users\\dlrud\\AppData\\Local\\Temp\\ipykernel_23836\\3615325761.py:1: DeprecationWarning: executable_path has been deprecated, please pass in a Service object\n",
      "  browser = webdriver.Chrome('C:/Users/dlrud/OneDrive - Sejong University/Self/Python/웹 크롤링 - fs/chromedriver.exe')\n"
     ]
    }
   ],
   "source": [
    "browser = webdriver.Chrome('C:/Users/dlrud/OneDrive - Sejong University/Self/Python/웹 크롤링 - fs/chromedriver.exe')\n",
    "browser.maximize_window()\n",
    "url = 'https://www.bigkinds.or.kr/'\n",
    "browser.get(url)"
   ]
  },
  {
   "cell_type": "code",
   "execution_count": 840,
   "id": "a501d452",
   "metadata": {
    "scrolled": true
   },
   "outputs": [],
   "source": [
    "browser.find_element(By.CLASS_NAME, 'search-key').send_keys('인플레이션')\n",
    "browser.find_element(By.CLASS_NAME, 'search-key').send_keys(Keys.ENTER)"
   ]
  },
  {
   "cell_type": "code",
   "execution_count": 848,
   "id": "82cafc40",
   "metadata": {},
   "outputs": [],
   "source": [
    "browser.find_element(By.ID, 'collapse-step-1').click()"
   ]
  },
  {
   "cell_type": "code",
   "execution_count": 842,
   "id": "b2f70e07",
   "metadata": {},
   "outputs": [],
   "source": [
    "browser.find_element(By.CLASS_NAME, 'tab-btn-inner' and 'tab1').click()"
   ]
  },
  {
   "cell_type": "code",
   "execution_count": 849,
   "id": "31961c32",
   "metadata": {},
   "outputs": [
    {
     "name": "stdout",
     "output_type": "stream",
     "text": [
      "검색할 시작 날짜 : 2022-10-01\n",
      "검색할 마지막 날짜 : 2022-10-09\n"
     ]
    }
   ],
   "source": [
    "date_start = input('검색할 시작 날짜 : ')\n",
    "date_end = input('검색할 마지막 날짜 : ')\n",
    "\n",
    "for i in range(10):\n",
    "    browser.find_element(By.ID, 'search-begin-date').send_keys(Keys.BACK_SPACE)\n",
    "browser.find_element(By.ID, 'search-begin-date').send_keys(date_start)\n",
    "for i in range(10):\n",
    "    browser.find_element(By.ID, 'search-end-date').send_keys(Keys.BACK_SPACE)\n",
    "browser.find_element(By.ID, 'search-end-date').send_keys(date_end)\n",
    "\n",
    "browser.find_element(By.CLASS_NAME, 'btn' and 'btn-search' and 'news-search-btn' and 'news-report-search-btn').click()\n",
    "time.sleep(1)\n",
    "\n",
    "select = Select(browser.find_element(By.ID, 'select2'))\n",
    "select.select_by_value('100')\n",
    "\n",
    "# 2022-10-16까지"
   ]
  },
  {
   "cell_type": "code",
   "execution_count": 858,
   "id": "a28aa99f",
   "metadata": {},
   "outputs": [
    {
     "ename": "NoSuchWindowException",
     "evalue": "Message: no such window: target window already closed\nfrom unknown error: web view not found\n  (Session info: chrome=107.0.5304.107)\nStacktrace:\nBacktrace:\n\tOrdinal0 [0x008F1ED3+2236115]\n\tOrdinal0 [0x008892F1+1807089]\n\tOrdinal0 [0x007966FD+812797]\n\tOrdinal0 [0x0077DFFA+712698]\n\tOrdinal0 [0x007E506B+1134699]\n\tOrdinal0 [0x007F514A+1200458]\n\tOrdinal0 [0x007E18A6+1120422]\n\tOrdinal0 [0x007BA73D+960317]\n\tOrdinal0 [0x007BB71F+964383]\n\tGetHandleVerifier [0x00B9E7E2+2743074]\n\tGetHandleVerifier [0x00B908D4+2685972]\n\tGetHandleVerifier [0x00982BAA+532202]\n\tGetHandleVerifier [0x00981990+527568]\n\tOrdinal0 [0x0089080C+1837068]\n\tOrdinal0 [0x00894CD8+1854680]\n\tOrdinal0 [0x00894DC5+1854917]\n\tOrdinal0 [0x0089ED64+1895780]\n\tBaseThreadInitThunk [0x76E06939+25]\n\tRtlGetFullPathName_UEx [0x77418FD2+1218]\n\tRtlGetFullPathName_UEx [0x77418F9D+1165]\n",
     "output_type": "error",
     "traceback": [
      "\u001b[1;31m---------------------------------------------------------------------------\u001b[0m",
      "\u001b[1;31mNoSuchWindowException\u001b[0m                     Traceback (most recent call last)",
      "Input \u001b[1;32mIn [858]\u001b[0m, in \u001b[0;36m<cell line: 3>\u001b[1;34m()\u001b[0m\n\u001b[0;32m      5\u001b[0m news \u001b[38;5;241m=\u001b[39m total_info\u001b[38;5;241m.\u001b[39mfind_elements(By\u001b[38;5;241m.\u001b[39mCLASS_NAME,\u001b[38;5;124m'\u001b[39m\u001b[38;5;124mnews-item\u001b[39m\u001b[38;5;124m'\u001b[39m)\n\u001b[0;32m      7\u001b[0m \u001b[38;5;28;01mfor\u001b[39;00m n \u001b[38;5;129;01min\u001b[39;00m news:\n\u001b[1;32m----> 8\u001b[0m     \u001b[43mn\u001b[49m\u001b[38;5;241;43m.\u001b[39;49m\u001b[43mclick\u001b[49m\u001b[43m(\u001b[49m\u001b[43m)\u001b[49m\n\u001b[0;32m      9\u001b[0m     time\u001b[38;5;241m.\u001b[39msleep(\u001b[38;5;241m2\u001b[39m)\n\u001b[0;32m     10\u001b[0m     body \u001b[38;5;241m=\u001b[39m browser\u001b[38;5;241m.\u001b[39mfind_element(By\u001b[38;5;241m.\u001b[39mCSS_SELECTOR, \u001b[38;5;124m'\u001b[39m\u001b[38;5;124mbody\u001b[39m\u001b[38;5;124m'\u001b[39m)\n",
      "File \u001b[1;32m~\\anaconda3\\lib\\site-packages\\selenium\\webdriver\\remote\\webelement.py:88\u001b[0m, in \u001b[0;36mWebElement.click\u001b[1;34m(self)\u001b[0m\n\u001b[0;32m     86\u001b[0m \u001b[38;5;28;01mdef\u001b[39;00m \u001b[38;5;21mclick\u001b[39m(\u001b[38;5;28mself\u001b[39m) \u001b[38;5;241m-\u001b[39m\u001b[38;5;241m>\u001b[39m \u001b[38;5;28;01mNone\u001b[39;00m:\n\u001b[0;32m     87\u001b[0m     \u001b[38;5;124;03m\"\"\"Clicks the element.\"\"\"\u001b[39;00m\n\u001b[1;32m---> 88\u001b[0m     \u001b[38;5;28;43mself\u001b[39;49m\u001b[38;5;241;43m.\u001b[39;49m\u001b[43m_execute\u001b[49m\u001b[43m(\u001b[49m\u001b[43mCommand\u001b[49m\u001b[38;5;241;43m.\u001b[39;49m\u001b[43mCLICK_ELEMENT\u001b[49m\u001b[43m)\u001b[49m\n",
      "File \u001b[1;32m~\\anaconda3\\lib\\site-packages\\selenium\\webdriver\\remote\\webelement.py:396\u001b[0m, in \u001b[0;36mWebElement._execute\u001b[1;34m(self, command, params)\u001b[0m\n\u001b[0;32m    394\u001b[0m     params \u001b[38;5;241m=\u001b[39m {}\n\u001b[0;32m    395\u001b[0m params[\u001b[38;5;124m'\u001b[39m\u001b[38;5;124mid\u001b[39m\u001b[38;5;124m'\u001b[39m] \u001b[38;5;241m=\u001b[39m \u001b[38;5;28mself\u001b[39m\u001b[38;5;241m.\u001b[39m_id\n\u001b[1;32m--> 396\u001b[0m \u001b[38;5;28;01mreturn\u001b[39;00m \u001b[38;5;28;43mself\u001b[39;49m\u001b[38;5;241;43m.\u001b[39;49m\u001b[43m_parent\u001b[49m\u001b[38;5;241;43m.\u001b[39;49m\u001b[43mexecute\u001b[49m\u001b[43m(\u001b[49m\u001b[43mcommand\u001b[49m\u001b[43m,\u001b[49m\u001b[43m \u001b[49m\u001b[43mparams\u001b[49m\u001b[43m)\u001b[49m\n",
      "File \u001b[1;32m~\\anaconda3\\lib\\site-packages\\selenium\\webdriver\\remote\\webdriver.py:429\u001b[0m, in \u001b[0;36mWebDriver.execute\u001b[1;34m(self, driver_command, params)\u001b[0m\n\u001b[0;32m    427\u001b[0m response \u001b[38;5;241m=\u001b[39m \u001b[38;5;28mself\u001b[39m\u001b[38;5;241m.\u001b[39mcommand_executor\u001b[38;5;241m.\u001b[39mexecute(driver_command, params)\n\u001b[0;32m    428\u001b[0m \u001b[38;5;28;01mif\u001b[39;00m response:\n\u001b[1;32m--> 429\u001b[0m     \u001b[38;5;28;43mself\u001b[39;49m\u001b[38;5;241;43m.\u001b[39;49m\u001b[43merror_handler\u001b[49m\u001b[38;5;241;43m.\u001b[39;49m\u001b[43mcheck_response\u001b[49m\u001b[43m(\u001b[49m\u001b[43mresponse\u001b[49m\u001b[43m)\u001b[49m\n\u001b[0;32m    430\u001b[0m     response[\u001b[38;5;124m'\u001b[39m\u001b[38;5;124mvalue\u001b[39m\u001b[38;5;124m'\u001b[39m] \u001b[38;5;241m=\u001b[39m \u001b[38;5;28mself\u001b[39m\u001b[38;5;241m.\u001b[39m_unwrap_value(\n\u001b[0;32m    431\u001b[0m         response\u001b[38;5;241m.\u001b[39mget(\u001b[38;5;124m'\u001b[39m\u001b[38;5;124mvalue\u001b[39m\u001b[38;5;124m'\u001b[39m, \u001b[38;5;28;01mNone\u001b[39;00m))\n\u001b[0;32m    432\u001b[0m     \u001b[38;5;28;01mreturn\u001b[39;00m response\n",
      "File \u001b[1;32m~\\anaconda3\\lib\\site-packages\\selenium\\webdriver\\remote\\errorhandler.py:243\u001b[0m, in \u001b[0;36mErrorHandler.check_response\u001b[1;34m(self, response)\u001b[0m\n\u001b[0;32m    241\u001b[0m         alert_text \u001b[38;5;241m=\u001b[39m value[\u001b[38;5;124m'\u001b[39m\u001b[38;5;124malert\u001b[39m\u001b[38;5;124m'\u001b[39m]\u001b[38;5;241m.\u001b[39mget(\u001b[38;5;124m'\u001b[39m\u001b[38;5;124mtext\u001b[39m\u001b[38;5;124m'\u001b[39m)\n\u001b[0;32m    242\u001b[0m     \u001b[38;5;28;01mraise\u001b[39;00m exception_class(message, screen, stacktrace, alert_text)  \u001b[38;5;66;03m# type: ignore[call-arg]  # mypy is not smart enough here\u001b[39;00m\n\u001b[1;32m--> 243\u001b[0m \u001b[38;5;28;01mraise\u001b[39;00m exception_class(message, screen, stacktrace)\n",
      "\u001b[1;31mNoSuchWindowException\u001b[0m: Message: no such window: target window already closed\nfrom unknown error: web view not found\n  (Session info: chrome=107.0.5304.107)\nStacktrace:\nBacktrace:\n\tOrdinal0 [0x008F1ED3+2236115]\n\tOrdinal0 [0x008892F1+1807089]\n\tOrdinal0 [0x007966FD+812797]\n\tOrdinal0 [0x0077DFFA+712698]\n\tOrdinal0 [0x007E506B+1134699]\n\tOrdinal0 [0x007F514A+1200458]\n\tOrdinal0 [0x007E18A6+1120422]\n\tOrdinal0 [0x007BA73D+960317]\n\tOrdinal0 [0x007BB71F+964383]\n\tGetHandleVerifier [0x00B9E7E2+2743074]\n\tGetHandleVerifier [0x00B908D4+2685972]\n\tGetHandleVerifier [0x00982BAA+532202]\n\tGetHandleVerifier [0x00981990+527568]\n\tOrdinal0 [0x0089080C+1837068]\n\tOrdinal0 [0x00894CD8+1854680]\n\tOrdinal0 [0x00894DC5+1854917]\n\tOrdinal0 [0x0089ED64+1895780]\n\tBaseThreadInitThunk [0x76E06939+25]\n\tRtlGetFullPathName_UEx [0x77418FD2+1218]\n\tRtlGetFullPathName_UEx [0x77418F9D+1165]\n"
     ]
    }
   ],
   "source": [
    "news_list = []\n",
    "count = browser.find_elements(By.CLASS_NAME, 'lastNum')[1].text\n",
    "for c in range(5,9):\n",
    "    total_info = browser.find_element(By.ID, 'news-results')\n",
    "    news = total_info.find_elements(By.CLASS_NAME,'news-item')\n",
    "    \n",
    "    for n in news:\n",
    "        n.click()\n",
    "        time.sleep(2)\n",
    "        body = browser.find_element(By.CSS_SELECTOR, 'body')\n",
    "        cc = body.find_element(By.CLASS_NAME, 'item1')\n",
    "        bb = cc.find_element(By.CLASS_NAME,'info')\n",
    "        news_date = bb.find_elements(By.TAG_NAME,'li')[0].text\n",
    "        news_text = body.find_element(By.CLASS_NAME, 'news-view-body').text\n",
    "        aa = browser.find_element(By.CLASS_NAME, 'news-view-head')\n",
    "        news_title = aa.find_element(By.CLASS_NAME, 'title').text\n",
    "        news_list.append([news_date, news_title, news_text])\n",
    "\n",
    "        body.send_keys(Keys.ESCAPE)\n",
    "        time.sleep(2)\n",
    "        \n",
    "    a1 = browser.find_elements(By.XPATH, '//*[@id=\"paging_news_result\"]')\n",
    "    if c+2 > 10 :\n",
    "        a1[-2].send_keys(Keys.BACK_SPACE)\n",
    "        \n",
    "    a1[-2].send_keys(Keys.BACK_SPACE)\n",
    "    a1[-2].send_keys(c+2)\n",
    "    a1[-2].send_keys(Keys.ENTER)\n",
    "    time.sleep(2)\n",
    "    "
   ]
  },
  {
   "cell_type": "code",
   "execution_count": 859,
   "id": "9b0ec90d",
   "metadata": {
    "scrolled": true
   },
   "outputs": [],
   "source": [
    "df = pd.DataFrame(news_list, columns=['날짜', '제목', '내용'])"
   ]
  },
  {
   "cell_type": "code",
   "execution_count": 860,
   "id": "245e5105",
   "metadata": {},
   "outputs": [
    {
     "name": "stderr",
     "output_type": "stream",
     "text": [
      "C:\\Users\\dlrud\\AppData\\Local\\Temp\\ipykernel_23836\\2961200697.py:1: FutureWarning: The frame.append method is deprecated and will be removed from pandas in a future version. Use pandas.concat instead.\n",
      "  df_result = df_result.append(df)\n"
     ]
    }
   ],
   "source": [
    "df_result = df_result.append(df)"
   ]
  },
  {
   "cell_type": "code",
   "execution_count": 861,
   "id": "78f916f1",
   "metadata": {
    "scrolled": true
   },
   "outputs": [
    {
     "name": "stdout",
     "output_type": "stream",
     "text": [
      "(8965, 3)\n"
     ]
    },
    {
     "data": {
      "text/html": [
       "<div>\n",
       "<style scoped>\n",
       "    .dataframe tbody tr th:only-of-type {\n",
       "        vertical-align: middle;\n",
       "    }\n",
       "\n",
       "    .dataframe tbody tr th {\n",
       "        vertical-align: top;\n",
       "    }\n",
       "\n",
       "    .dataframe thead th {\n",
       "        text-align: right;\n",
       "    }\n",
       "</style>\n",
       "<table border=\"1\" class=\"dataframe\">\n",
       "  <thead>\n",
       "    <tr style=\"text-align: right;\">\n",
       "      <th></th>\n",
       "      <th>날짜</th>\n",
       "      <th>제목</th>\n",
       "      <th>내용</th>\n",
       "    </tr>\n",
       "  </thead>\n",
       "  <tbody>\n",
       "    <tr>\n",
       "      <th>8955</th>\n",
       "      <td>2022-10-05</td>\n",
       "      <td>본우리집밥, 5000원대 구내식당 외부인 개방 확대</td>\n",
       "      <td>본우리집밥 지점.\\n[아시아경제 문혜원 기자] 본푸드서비스의 단체급식 전문 브랜드 ...</td>\n",
       "    </tr>\n",
       "    <tr>\n",
       "      <th>8956</th>\n",
       "      <td>2022-10-05</td>\n",
       "      <td>뉴욕증시 2거래일 연속 급등‥긴축 완급조절 기대감</td>\n",
       "      <td>신영증권입니다.\\n\\n뉴욕증시 3대 지수가 2거래일 연속 급등했습니다.\\n\\n다우지...</td>\n",
       "    </tr>\n",
       "    <tr>\n",
       "      <th>8957</th>\n",
       "      <td>2022-10-05</td>\n",
       "      <td>\"LG엔솔, 3분기 실적 호조…1년간은 수주 모멘텀 주목\"-한국</td>\n",
       "      <td>한국투자증권은 5일 LG에너지솔루션에 대해 3분기 호실적이 예상된다고 평가했다. 다...</td>\n",
       "    </tr>\n",
       "    <tr>\n",
       "      <th>8958</th>\n",
       "      <td>2022-10-05</td>\n",
       "      <td>데드캣 바운스?…車·반도체株 반등세 이끄나[증시 개장 전 꼭 알아야 할 5가지]</td>\n",
       "      <td>사진=게티이미지뱅크\\n‘데드 캣 바운스’(하락장 속 일시적 반등)가 나타나는 걸까....</td>\n",
       "    </tr>\n",
       "    <tr>\n",
       "      <th>8959</th>\n",
       "      <td>2022-10-05</td>\n",
       "      <td>\"우려했던 일이 현실로…\" 아이오닉5·EV6 美 판매량 '뚝'</td>\n",
       "      <td>공영운 현대자동차 사장/사진=연합\\n공영운 현대자동차 사장(사진)은 미국의 '인플레...</td>\n",
       "    </tr>\n",
       "    <tr>\n",
       "      <th>8960</th>\n",
       "      <td>2022-10-05</td>\n",
       "      <td>3분기 실적도 좋을 것이란 에코프로비엠…목표주가는 '뚝', 왜?</td>\n",
       "      <td>[머니투데이 홍순빈 기자]\\n하이투자증권이 에코프로비엠에 대한 투자의견을 '매수'로...</td>\n",
       "    </tr>\n",
       "    <tr>\n",
       "      <th>8961</th>\n",
       "      <td>2022-10-05</td>\n",
       "      <td>\"LG이노텍, 현재 주가 현저히 저평가 상태\"-KB</td>\n",
       "      <td>KB증권은 LG이노텍에 대해 현재 주가가 현저한 저평가 상태라며 투자의견 '매수',...</td>\n",
       "    </tr>\n",
       "    <tr>\n",
       "      <th>8962</th>\n",
       "      <td>2022-10-05</td>\n",
       "      <td>[굿모닝 증시]\"누그러진 强달러, 반도체株 등 국내 증시 상승 전망\"</td>\n",
       "      <td>나스닥 3.3%, S&amp;P500 3.06% 상승 고강도 긴축 부담속 이번주 美고용지표...</td>\n",
       "    </tr>\n",
       "    <tr>\n",
       "      <th>8963</th>\n",
       "      <td>2022-10-05</td>\n",
       "      <td>수출 기업 “4분기 실적 더 악화”···금리인상·환율 변동·원자재 가격 상승 ‘3중고’</td>\n",
       "      <td>지난달 7일 오전 부산항 신선대 부두에서 컨테이너 하역작업이 진행되고 있다. 연합뉴...</td>\n",
       "    </tr>\n",
       "    <tr>\n",
       "      <th>8964</th>\n",
       "      <td>2022-10-05</td>\n",
       "      <td>“10월엔 주식 무조건 오른다” 그럴싸한 이유</td>\n",
       "      <td>[방현철 박사의 월스트리트] ‘베어마켓 킬러’ 10월이 왔다\\n방현철 박사의 월스트...</td>\n",
       "    </tr>\n",
       "  </tbody>\n",
       "</table>\n",
       "</div>"
      ],
      "text/plain": [
       "              날짜                                                제목  \\\n",
       "8955  2022-10-05                      본우리집밥, 5000원대 구내식당 외부인 개방 확대   \n",
       "8956  2022-10-05                       뉴욕증시 2거래일 연속 급등‥긴축 완급조절 기대감   \n",
       "8957  2022-10-05               \"LG엔솔, 3분기 실적 호조…1년간은 수주 모멘텀 주목\"-한국   \n",
       "8958  2022-10-05      데드캣 바운스?…車·반도체株 반등세 이끄나[증시 개장 전 꼭 알아야 할 5가지]   \n",
       "8959  2022-10-05                \"우려했던 일이 현실로…\" 아이오닉5·EV6 美 판매량 '뚝'   \n",
       "8960  2022-10-05               3분기 실적도 좋을 것이란 에코프로비엠…목표주가는 '뚝', 왜?   \n",
       "8961  2022-10-05                      \"LG이노텍, 현재 주가 현저히 저평가 상태\"-KB   \n",
       "8962  2022-10-05            [굿모닝 증시]\"누그러진 强달러, 반도체株 등 국내 증시 상승 전망\"   \n",
       "8963  2022-10-05  수출 기업 “4분기 실적 더 악화”···금리인상·환율 변동·원자재 가격 상승 ‘3중고’   \n",
       "8964  2022-10-05                         “10월엔 주식 무조건 오른다” 그럴싸한 이유   \n",
       "\n",
       "                                                     내용  \n",
       "8955  본우리집밥 지점.\\n[아시아경제 문혜원 기자] 본푸드서비스의 단체급식 전문 브랜드 ...  \n",
       "8956  신영증권입니다.\\n\\n뉴욕증시 3대 지수가 2거래일 연속 급등했습니다.\\n\\n다우지...  \n",
       "8957  한국투자증권은 5일 LG에너지솔루션에 대해 3분기 호실적이 예상된다고 평가했다. 다...  \n",
       "8958  사진=게티이미지뱅크\\n‘데드 캣 바운스’(하락장 속 일시적 반등)가 나타나는 걸까....  \n",
       "8959  공영운 현대자동차 사장/사진=연합\\n공영운 현대자동차 사장(사진)은 미국의 '인플레...  \n",
       "8960  [머니투데이 홍순빈 기자]\\n하이투자증권이 에코프로비엠에 대한 투자의견을 '매수'로...  \n",
       "8961  KB증권은 LG이노텍에 대해 현재 주가가 현저한 저평가 상태라며 투자의견 '매수',...  \n",
       "8962  나스닥 3.3%, S&P500 3.06% 상승 고강도 긴축 부담속 이번주 美고용지표...  \n",
       "8963  지난달 7일 오전 부산항 신선대 부두에서 컨테이너 하역작업이 진행되고 있다. 연합뉴...  \n",
       "8964  [방현철 박사의 월스트리트] ‘베어마켓 킬러’ 10월이 왔다\\n방현철 박사의 월스트...  "
      ]
     },
     "execution_count": 861,
     "metadata": {},
     "output_type": "execute_result"
    }
   ],
   "source": [
    "print(df_result.shape)\n",
    "df_result.reset_index(drop=True,inplace=True)\n",
    "df_result.tail(10)"
   ]
  },
  {
   "cell_type": "code",
   "execution_count": 825,
   "id": "e4aa4db7",
   "metadata": {},
   "outputs": [],
   "source": [
    "df_result.to_excel('result.xlsx', index=None)"
   ]
  },
  {
   "cell_type": "code",
   "execution_count": 826,
   "id": "b664aa8d",
   "metadata": {},
   "outputs": [],
   "source": [
    "def get_count(df_news1):\n",
    "    word_list = []\n",
    "    word_list = df_news1['내용']\n",
    "    # 형태소 분리\n",
    "    sentences_tag = []\n",
    "    for sentence in word_list:\n",
    "        morph = twitter.pos(sentence)\n",
    "        sentences_tag.append(morph)\n",
    "    # 명사만 추출\n",
    "    noun_list = []\n",
    "    for sentence in sentences_tag:\n",
    "        for word, tag in sentence:\n",
    "            if tag in ['Noun']:\n",
    "                noun_list.append(word)\n",
    "    # 두 단어 이상 추출\n",
    "    noun_list = [n for n in noun_list if len(n) > 1]\n",
    "    # 단어 카운트\n",
    "    counts = Counter(noun_list)\n",
    "    tags = counts.most_common(40)\n",
    "    \n",
    "    return tags"
   ]
  },
  {
   "cell_type": "code",
   "execution_count": 827,
   "id": "a1e6c87f",
   "metadata": {
    "scrolled": true
   },
   "outputs": [
    {
     "name": "stderr",
     "output_type": "stream",
     "text": [
      "C:\\Users\\dlrud\\anaconda3\\lib\\site-packages\\konlpy\\tag\\_okt.py:17: UserWarning: \"Twitter\" has changed to \"Okt\" since KoNLPy v0.4.5.\n",
      "  warn('\"Twitter\" has changed to \"Okt\" since KoNLPy v0.4.5.')\n"
     ]
    }
   ],
   "source": [
    "twitter = Twitter()"
   ]
  },
  {
   "cell_type": "code",
   "execution_count": 838,
   "id": "58c46fb7",
   "metadata": {},
   "outputs": [
    {
     "ename": "KeyboardInterrupt",
     "evalue": "",
     "output_type": "error",
     "traceback": [
      "\u001b[1;31m---------------------------------------------------------------------------\u001b[0m",
      "\u001b[1;31mKeyboardInterrupt\u001b[0m                         Traceback (most recent call last)",
      "Input \u001b[1;32mIn [838]\u001b[0m, in \u001b[0;36m<cell line: 1>\u001b[1;34m()\u001b[0m\n\u001b[1;32m----> 1\u001b[0m \u001b[43mget_count\u001b[49m\u001b[43m(\u001b[49m\u001b[43mdf_copy\u001b[49m\u001b[43m)\u001b[49m\n",
      "Input \u001b[1;32mIn [826]\u001b[0m, in \u001b[0;36mget_count\u001b[1;34m(df_news1)\u001b[0m\n\u001b[0;32m      5\u001b[0m sentences_tag \u001b[38;5;241m=\u001b[39m []\n\u001b[0;32m      6\u001b[0m \u001b[38;5;28;01mfor\u001b[39;00m sentence \u001b[38;5;129;01min\u001b[39;00m word_list:\n\u001b[1;32m----> 7\u001b[0m     morph \u001b[38;5;241m=\u001b[39m \u001b[43mtwitter\u001b[49m\u001b[38;5;241;43m.\u001b[39;49m\u001b[43mpos\u001b[49m\u001b[43m(\u001b[49m\u001b[43msentence\u001b[49m\u001b[43m)\u001b[49m\n\u001b[0;32m      8\u001b[0m     sentences_tag\u001b[38;5;241m.\u001b[39mappend(morph)\n\u001b[0;32m      9\u001b[0m \u001b[38;5;66;03m# 명사만 추출\u001b[39;00m\n",
      "File \u001b[1;32m~\\anaconda3\\lib\\site-packages\\konlpy\\tag\\_okt.py:71\u001b[0m, in \u001b[0;36mOkt.pos\u001b[1;34m(self, phrase, norm, stem, join)\u001b[0m\n\u001b[0;32m     59\u001b[0m \u001b[38;5;124;03m\"\"\"POS tagger.\u001b[39;00m\n\u001b[0;32m     60\u001b[0m \u001b[38;5;124;03mIn contrast to other classes in this subpackage,\u001b[39;00m\n\u001b[0;32m     61\u001b[0m \u001b[38;5;124;03mthis POS tagger doesn't have a `flatten` option,\u001b[39;00m\n\u001b[1;32m   (...)\u001b[0m\n\u001b[0;32m     67\u001b[0m \u001b[38;5;124;03m:param join: If True, returns joined sets of morph and tag.\u001b[39;00m\n\u001b[0;32m     68\u001b[0m \u001b[38;5;124;03m\"\"\"\u001b[39;00m\n\u001b[0;32m     69\u001b[0m validate_phrase_inputs(phrase)\n\u001b[1;32m---> 71\u001b[0m tokens \u001b[38;5;241m=\u001b[39m \u001b[38;5;28;43mself\u001b[39;49m\u001b[38;5;241;43m.\u001b[39;49m\u001b[43mjki\u001b[49m\u001b[38;5;241;43m.\u001b[39;49m\u001b[43mtokenize\u001b[49m\u001b[43m(\u001b[49m\n\u001b[0;32m     72\u001b[0m \u001b[43m            \u001b[49m\u001b[43mphrase\u001b[49m\u001b[43m,\u001b[49m\n\u001b[0;32m     73\u001b[0m \u001b[43m            \u001b[49m\u001b[43mjpype\u001b[49m\u001b[38;5;241;43m.\u001b[39;49m\u001b[43mjava\u001b[49m\u001b[38;5;241;43m.\u001b[39;49m\u001b[43mlang\u001b[49m\u001b[38;5;241;43m.\u001b[39;49m\u001b[43mBoolean\u001b[49m\u001b[43m(\u001b[49m\u001b[43mnorm\u001b[49m\u001b[43m)\u001b[49m\u001b[43m,\u001b[49m\n\u001b[0;32m     74\u001b[0m \u001b[43m            \u001b[49m\u001b[43mjpype\u001b[49m\u001b[38;5;241;43m.\u001b[39;49m\u001b[43mjava\u001b[49m\u001b[38;5;241;43m.\u001b[39;49m\u001b[43mlang\u001b[49m\u001b[38;5;241;43m.\u001b[39;49m\u001b[43mBoolean\u001b[49m\u001b[43m(\u001b[49m\u001b[43mstem\u001b[49m\u001b[43m)\u001b[49m\u001b[43m)\u001b[49m\u001b[38;5;241m.\u001b[39mtoArray()\n\u001b[0;32m     75\u001b[0m \u001b[38;5;28;01mif\u001b[39;00m join:\n\u001b[0;32m     76\u001b[0m     \u001b[38;5;28;01mreturn\u001b[39;00m [t \u001b[38;5;28;01mfor\u001b[39;00m t \u001b[38;5;129;01min\u001b[39;00m tokens]\n",
      "\u001b[1;31mKeyboardInterrupt\u001b[0m: "
     ]
    }
   ],
   "source": [
    "get_count(df_copy)"
   ]
  },
  {
   "cell_type": "code",
   "execution_count": 830,
   "id": "e7308ea9",
   "metadata": {},
   "outputs": [],
   "source": [
    "df_copy = df_result.drop_duplicates()"
   ]
  },
  {
   "cell_type": "code",
   "execution_count": 835,
   "id": "97798881",
   "metadata": {},
   "outputs": [],
   "source": [
    "df_result.dropna(axis=0,inplace=True)"
   ]
  },
  {
   "cell_type": "code",
   "execution_count": 837,
   "id": "394022c8",
   "metadata": {
    "scrolled": true
   },
   "outputs": [
    {
     "name": "stderr",
     "output_type": "stream",
     "text": [
      "C:\\Users\\dlrud\\AppData\\Local\\Temp\\ipykernel_23836\\2298220408.py:1: SettingWithCopyWarning: \n",
      "A value is trying to be set on a copy of a slice from a DataFrame\n",
      "\n",
      "See the caveats in the documentation: https://pandas.pydata.org/pandas-docs/stable/user_guide/indexing.html#returning-a-view-versus-a-copy\n",
      "  df_copy.dropna(axis=0,inplace=True)\n"
     ]
    }
   ],
   "source": [
    "df_copy.dropna(axis=0,inplace=True)"
   ]
  },
  {
   "cell_type": "markdown",
   "id": "38487c44",
   "metadata": {},
   "source": [
    "## 워드클라우드 생성"
   ]
  },
  {
   "cell_type": "code",
   "execution_count": null,
   "id": "d532f223",
   "metadata": {},
   "outputs": [],
   "source": [
    "wordcloud = WordCloud()"
   ]
  }
 ],
 "metadata": {
  "kernelspec": {
   "display_name": "Python 3 (ipykernel)",
   "language": "python",
   "name": "python3"
  },
  "language_info": {
   "codemirror_mode": {
    "name": "ipython",
    "version": 3
   },
   "file_extension": ".py",
   "mimetype": "text/x-python",
   "name": "python",
   "nbconvert_exporter": "python",
   "pygments_lexer": "ipython3",
   "version": "3.9.13"
  }
 },
 "nbformat": 4,
 "nbformat_minor": 5
}
